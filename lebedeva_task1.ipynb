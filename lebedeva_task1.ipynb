{
 "cells": [
  {
   "cell_type": "code",
   "execution_count": 1,
   "outputs": [],
   "source": [
    "import numpy as np\n",
    "import pandas as pd\n"
   ],
   "metadata": {
    "collapsed": false,
    "pycharm": {
     "name": "#%%\n",
     "is_executing": false
    }
   }
  },
  {
   "cell_type": "code",
   "execution_count": 2,
   "outputs": [],
   "source": [
    "# сильные шкалы\n",
    "def d_strong(column, i, l):\n",
    "    xmax = np.max(column)\n",
    "    xmin = np.min(column)\n",
    "    return np.abs(i - l) / (xmax - xmin)\n"
   ],
   "metadata": {
    "collapsed": false,
    "pycharm": {
     "name": "#%%\n",
     "is_executing": false
    }
   }
  },
  {
   "cell_type": "code",
   "execution_count": 3,
   "outputs": [],
   "source": [
    "# шкала порядка\n",
    "def d_order_k(i, l, k):\n",
    "    if i < k < l or i > k > l:\n",
    "        return 1\n",
    "    elif i == k and l != k or i != k and l == k:\n",
    "        return 0.5\n",
    "    return 0\n",
    "\n",
    "\n",
    "def d_order(column, i, l):\n",
    "    sum = 0\n",
    "    for k in column:\n",
    "        sum += d_order_k(i, l, k)\n",
    "    return sum / (len(column) - 1)\n"
   ],
   "metadata": {
    "collapsed": false,
    "pycharm": {
     "name": "#%%\n",
     "is_executing": false
    }
   }
  },
  {
   "cell_type": "code",
   "execution_count": 4,
   "outputs": [],
   "source": [
    "# шкала наименований\n",
    "def d_name_k(i, l, k):\n",
    "    if i == k and l != k or i != k and l == k:\n",
    "        return 1\n",
    "    return 0\n",
    "\n",
    "\n",
    "def d_name(column, i, l):\n",
    "    sum = 0\n",
    "    for k in column:\n",
    "        sum += d_name_k(i, l, k)\n",
    "    return sum / (len(column))\n"
   ],
   "metadata": {
    "collapsed": false,
    "pycharm": {
     "name": "#%%\n",
     "is_executing": false
    }
   }
  },
  {
   "cell_type": "code",
   "execution_count": 5,
   "outputs": [],
   "source": [
    "# абсолютная=1, отношений=2, интервалов=3, порядка=4, наименований=5\n",
    "def get_d_by_scale(scale):\n",
    "    if scale <= 3:\n",
    "        return d_strong\n",
    "    elif scale == 4:\n",
    "        return d_order\n",
    "    elif scale == 5:\n",
    "        return d_name\n",
    "\n",
    "\n",
    "def distance_between_objects(scale, column, first, second):\n",
    "    d = get_d_by_scale(scale)\n",
    "    return d(column, first, second)\n"
   ],
   "metadata": {
    "collapsed": false,
    "pycharm": {
     "name": "#%%\n",
     "is_executing": false
    }
   }
  },
  {
   "cell_type": "code",
   "execution_count": 6,
   "outputs": [
    {
     "data": {
      "text/plain": "            country  geo_zone  area  population  continent(desc area)  \\\n0       Afghanistan         1   648          16                     1   \n1           Albania         1    29           3                     5   \n2           Algeria         1  2388          20                     2   \n3    American-Samoa         3     0           0                     6   \n4           Andorra         1     0           0                     5   \n..              ...       ...   ...         ...                   ...   \n189   Western-Samoa         3     3           0                     6   \n190      Yugoslavia         1   256          22                     5   \n191           Zaire         2   905          28                     2   \n192          Zambia         2   753           6                     2   \n193        Zimbabwe         2   391           8                     2   \n\n     continent(desc population)  language  religion  num of vert stripe  \\\n0                             1        10         2                   0   \n1                             3         6         6                   0   \n2                             2         8         2                   2   \n3                             6         1         1                   0   \n4                             3         6         0                   3   \n..                          ...       ...       ...                 ...   \n189                           6         1         1                   0   \n190                           3         6         6                   0   \n191                           2        10         5                   0   \n192                           2        10         5                   3   \n193                           2        10         5                   0   \n\n     num of horiz stripes  num of dif colors  hasRed  hasGreen  hasBlue  \\\n0                       3                  5       1         1        0   \n1                       0                  3       1         0        0   \n2                       0                  3       1         1        0   \n3                       0                  5       1         0        1   \n4                       0                  3       1         0        1   \n..                    ...                ...     ...       ...      ...   \n189                     0                  3       1         0        1   \n190                     3                  4       1         0        1   \n191                     0                  4       1         1        0   \n192                     0                  4       1         1        0   \n193                     7                  5       1         1        0   \n\n     hasGold  hasWhite  hasBlack  hasOrange predominant color  \n0          1         1         1          0             green  \n1          1         0         1          0               red  \n2          0         1         0          0             green  \n3          1         1         0          1              blue  \n4          1         0         0          0              gold  \n..       ...       ...       ...        ...               ...  \n189        0         1         0          0               red  \n190        1         1         0          0               red  \n191        1         0         0          1             green  \n192        0         0         1          1             green  \n193        1         1         1          0             green  \n\n[194 rows x 19 columns]",
      "text/html": "<div>\n<style scoped>\n    .dataframe tbody tr th:only-of-type {\n        vertical-align: middle;\n    }\n\n    .dataframe tbody tr th {\n        vertical-align: top;\n    }\n\n    .dataframe thead th {\n        text-align: right;\n    }\n</style>\n<table border=\"1\" class=\"dataframe\">\n  <thead>\n    <tr style=\"text-align: right;\">\n      <th></th>\n      <th>country</th>\n      <th>geo_zone</th>\n      <th>area</th>\n      <th>population</th>\n      <th>continent(desc area)</th>\n      <th>continent(desc population)</th>\n      <th>language</th>\n      <th>religion</th>\n      <th>num of vert stripe</th>\n      <th>num of horiz stripes</th>\n      <th>num of dif colors</th>\n      <th>hasRed</th>\n      <th>hasGreen</th>\n      <th>hasBlue</th>\n      <th>hasGold</th>\n      <th>hasWhite</th>\n      <th>hasBlack</th>\n      <th>hasOrange</th>\n      <th>predominant color</th>\n    </tr>\n  </thead>\n  <tbody>\n    <tr>\n      <th>0</th>\n      <td>Afghanistan</td>\n      <td>1</td>\n      <td>648</td>\n      <td>16</td>\n      <td>1</td>\n      <td>1</td>\n      <td>10</td>\n      <td>2</td>\n      <td>0</td>\n      <td>3</td>\n      <td>5</td>\n      <td>1</td>\n      <td>1</td>\n      <td>0</td>\n      <td>1</td>\n      <td>1</td>\n      <td>1</td>\n      <td>0</td>\n      <td>green</td>\n    </tr>\n    <tr>\n      <th>1</th>\n      <td>Albania</td>\n      <td>1</td>\n      <td>29</td>\n      <td>3</td>\n      <td>5</td>\n      <td>3</td>\n      <td>6</td>\n      <td>6</td>\n      <td>0</td>\n      <td>0</td>\n      <td>3</td>\n      <td>1</td>\n      <td>0</td>\n      <td>0</td>\n      <td>1</td>\n      <td>0</td>\n      <td>1</td>\n      <td>0</td>\n      <td>red</td>\n    </tr>\n    <tr>\n      <th>2</th>\n      <td>Algeria</td>\n      <td>1</td>\n      <td>2388</td>\n      <td>20</td>\n      <td>2</td>\n      <td>2</td>\n      <td>8</td>\n      <td>2</td>\n      <td>2</td>\n      <td>0</td>\n      <td>3</td>\n      <td>1</td>\n      <td>1</td>\n      <td>0</td>\n      <td>0</td>\n      <td>1</td>\n      <td>0</td>\n      <td>0</td>\n      <td>green</td>\n    </tr>\n    <tr>\n      <th>3</th>\n      <td>American-Samoa</td>\n      <td>3</td>\n      <td>0</td>\n      <td>0</td>\n      <td>6</td>\n      <td>6</td>\n      <td>1</td>\n      <td>1</td>\n      <td>0</td>\n      <td>0</td>\n      <td>5</td>\n      <td>1</td>\n      <td>0</td>\n      <td>1</td>\n      <td>1</td>\n      <td>1</td>\n      <td>0</td>\n      <td>1</td>\n      <td>blue</td>\n    </tr>\n    <tr>\n      <th>4</th>\n      <td>Andorra</td>\n      <td>1</td>\n      <td>0</td>\n      <td>0</td>\n      <td>5</td>\n      <td>3</td>\n      <td>6</td>\n      <td>0</td>\n      <td>3</td>\n      <td>0</td>\n      <td>3</td>\n      <td>1</td>\n      <td>0</td>\n      <td>1</td>\n      <td>1</td>\n      <td>0</td>\n      <td>0</td>\n      <td>0</td>\n      <td>gold</td>\n    </tr>\n    <tr>\n      <th>...</th>\n      <td>...</td>\n      <td>...</td>\n      <td>...</td>\n      <td>...</td>\n      <td>...</td>\n      <td>...</td>\n      <td>...</td>\n      <td>...</td>\n      <td>...</td>\n      <td>...</td>\n      <td>...</td>\n      <td>...</td>\n      <td>...</td>\n      <td>...</td>\n      <td>...</td>\n      <td>...</td>\n      <td>...</td>\n      <td>...</td>\n      <td>...</td>\n    </tr>\n    <tr>\n      <th>189</th>\n      <td>Western-Samoa</td>\n      <td>3</td>\n      <td>3</td>\n      <td>0</td>\n      <td>6</td>\n      <td>6</td>\n      <td>1</td>\n      <td>1</td>\n      <td>0</td>\n      <td>0</td>\n      <td>3</td>\n      <td>1</td>\n      <td>0</td>\n      <td>1</td>\n      <td>0</td>\n      <td>1</td>\n      <td>0</td>\n      <td>0</td>\n      <td>red</td>\n    </tr>\n    <tr>\n      <th>190</th>\n      <td>Yugoslavia</td>\n      <td>1</td>\n      <td>256</td>\n      <td>22</td>\n      <td>5</td>\n      <td>3</td>\n      <td>6</td>\n      <td>6</td>\n      <td>0</td>\n      <td>3</td>\n      <td>4</td>\n      <td>1</td>\n      <td>0</td>\n      <td>1</td>\n      <td>1</td>\n      <td>1</td>\n      <td>0</td>\n      <td>0</td>\n      <td>red</td>\n    </tr>\n    <tr>\n      <th>191</th>\n      <td>Zaire</td>\n      <td>2</td>\n      <td>905</td>\n      <td>28</td>\n      <td>2</td>\n      <td>2</td>\n      <td>10</td>\n      <td>5</td>\n      <td>0</td>\n      <td>0</td>\n      <td>4</td>\n      <td>1</td>\n      <td>1</td>\n      <td>0</td>\n      <td>1</td>\n      <td>0</td>\n      <td>0</td>\n      <td>1</td>\n      <td>green</td>\n    </tr>\n    <tr>\n      <th>192</th>\n      <td>Zambia</td>\n      <td>2</td>\n      <td>753</td>\n      <td>6</td>\n      <td>2</td>\n      <td>2</td>\n      <td>10</td>\n      <td>5</td>\n      <td>3</td>\n      <td>0</td>\n      <td>4</td>\n      <td>1</td>\n      <td>1</td>\n      <td>0</td>\n      <td>0</td>\n      <td>0</td>\n      <td>1</td>\n      <td>1</td>\n      <td>green</td>\n    </tr>\n    <tr>\n      <th>193</th>\n      <td>Zimbabwe</td>\n      <td>2</td>\n      <td>391</td>\n      <td>8</td>\n      <td>2</td>\n      <td>2</td>\n      <td>10</td>\n      <td>5</td>\n      <td>0</td>\n      <td>7</td>\n      <td>5</td>\n      <td>1</td>\n      <td>1</td>\n      <td>0</td>\n      <td>1</td>\n      <td>1</td>\n      <td>1</td>\n      <td>0</td>\n      <td>green</td>\n    </tr>\n  </tbody>\n</table>\n<p>194 rows × 19 columns</p>\n</div>"
     },
     "metadata": {},
     "output_type": "execute_result",
     "execution_count": 6
    }
   ],
   "source": [
    "# чтение таблицы\n",
    "column_names = [\"country\", \"geo_zone\", \"area\", \"population\", \"continent(desc area)\",\n",
    "                \"continent(desc population)\", \"language\", \"religion\", \"num of vert stripe\",\n",
    "                \"num of horiz stripes\", \"num of dif colors\", \"hasRed\", \"hasGreen\", \"hasBlue\",\n",
    "                \"hasGold\", \"hasWhite\", \"hasBlack\", \"hasOrange\", \"predominant color\"]\n",
    "column_scale = [5, 5, 2, 2, 4, 4, 5, 5, 1, 1, 1, 5, 5, 5, 5, 5, 5, 5, 5]\n",
    "flags_table = pd.read_csv(\"Flags.csv\", delimiter=\";\", names=column_names)\n",
    "flags_table"
   ],
   "metadata": {
    "collapsed": false,
    "pycharm": {
     "name": "#%%\n",
     "is_executing": false
    }
   }
  },
  {
   "cell_type": "code",
   "execution_count": 7,
   "outputs": [
    {
     "name": "stdout",
     "text": [
      "[[0.         0.4195319  0.36397822 ... 0.43925376 0.4603077  0.18934247]\n [0.4195319  0.         0.50556826 ... 0.46778386 0.48755686 0.4271681 ]\n [0.36397822 0.50556826 0.         ... 0.44634712 0.43927953 0.40393829]\n ...\n [0.43925376 0.46778386 0.44634712 ... 0.         0.35248208 0.4149467 ]\n [0.4603077  0.48755686 0.43927953 ... 0.35248208 0.         0.43714261]\n [0.18934247 0.4271681  0.40393829 ... 0.4149467  0.43714261 0.        ]]\n"
     ],
     "output_type": "stream"
    }
   ],
   "source": [
    "# вычисление попарного расстояния между объектами для каждого признака\n",
    "matrix = [[0 for i in range(len(flags_table))] for j in range(len(flags_table))]\n",
    "for attr in range(len(column_names)):\n",
    "    column = pd.Series.to_numpy(flags_table.loc[:, column_names[attr]])\n",
    "    for i in range(column.size):\n",
    "        for j in range(i, column.size):\n",
    "            tmp = distance_between_objects(column_scale[attr], column, column[i], column[j])\n",
    "            matrix[i][j] += pow(tmp, 2)\n",
    "            # матрица симметричная в силу симметричности расстояния, так что экономим ресурсы компьютера и симметричной клетке прибавляем это же расстояние\n",
    "            matrix[j][i] += pow(tmp, 2)\n",
    "matrix = np.array(matrix)\n",
    "for row in range(len(matrix)):\n",
    "    for obj in range(len(matrix)):\n",
    "        matrix[row][obj] = np.sqrt(matrix[row][obj]) / np.sqrt(len(column_names))\n",
    "print(matrix)"
   ],
   "metadata": {
    "collapsed": false,
    "pycharm": {
     "name": "#%%\n",
     "is_executing": false
    }
   }
  },
  {
   "cell_type": "code",
   "execution_count": 8,
   "outputs": [
    {
     "name": "stdout",
     "text": [
      "103.2193711130614        country  geo_zone  area  population  continent(desc area)  \\\n157  Sri-Lanka         1    66          15                     1   \n\n     continent(desc population)  language  religion  num of vert stripe  \\\n157                           1        10         3                   2   \n\n     num of horiz stripes  num of dif colors  hasRed  hasGreen  hasBlue  \\\n157                     0                  4       0         1        0   \n\n     hasGold  hasWhite  hasBlack  hasOrange predominant color  \n157        1         0         0          1              gold  \n"
     ],
     "output_type": "stream"
    }
   ],
   "source": [
    "# нахождение объекта, суммарное расстояние до которого, будет максимальным\n",
    "def sum_distance(row):\n",
    "    return sum(row)\n",
    "\n",
    "\n",
    "[max_elem, obj] = [-1, -1]\n",
    "for col in range(len(matrix)):\n",
    "    column_sum = sum_distance(matrix[col])\n",
    "    if column_sum > max_elem:\n",
    "         #я так поняла, из датафрейма нельзя взять просто строку, нужно именно диапазон, поэтому так\n",
    "        el = flags_table[col:col + 1] \n",
    "        [max_elem, obj] = [column_sum, el]\n",
    "print(max_elem, obj)"
   ],
   "metadata": {
    "collapsed": false,
    "pycharm": {
     "name": "#%%\n",
     "is_executing": false
    }
   }
  },
  {
   "cell_type": "code",
   "execution_count": 9,
   "outputs": [
    {
     "name": "stdout",
     "text": [
      "0.08973879600448693\n"
     ],
     "output_type": "stream"
    }
   ],
   "source": [
    "# функция, вычисляющая расстояние между порядковыми признаками\n",
    "def d_il_attrs_order(i, l, x1, x2):\n",
    "    if (x1[i] > x1[l] and x2[i] < x2[l]) or (x1[i] < x1[l] and x2[i] > x2[l]):\n",
    "        return 1\n",
    "    elif (x1[i] != x1[l] and x2[i] == x2[l]) or (x1[i] == x1[l] and x2[i] != x2[l]):\n",
    "        return 0.5\n",
    "    return 0\n",
    "\n",
    "\n",
    "def order_attrs_distance(column1, column2):\n",
    "    _sum = 0\n",
    "    for i in range(column1.size):\n",
    "        for l in range(i, column1.size):\n",
    "            _sum += d_il_attrs_order(i, l, column1, column2)\n",
    "    c_m_2 = (column1.size - 1) * column1.size / 2\n",
    "    return _sum / c_m_2\n",
    "\n",
    "\n",
    "column1 = pd.Series.to_numpy(flags_table.loc[:, column_names[4]])\n",
    "column2 = pd.Series.to_numpy(flags_table.loc[:, column_names[5]])\n",
    "print(order_attrs_distance(column1, column2))"
   ],
   "metadata": {
    "collapsed": false,
    "pycharm": {
     "name": "#%%\n",
     "is_executing": false
    }
   }
  }
 ],
 "metadata": {
  "language_info": {
   "codemirror_mode": {
    "name": "ipython",
    "version": 2
   },
   "file_extension": ".py",
   "mimetype": "text/x-python",
   "name": "python",
   "nbconvert_exporter": "python",
   "pygments_lexer": "ipython2",
   "version": "2.7.6"
  },
  "kernelspec": {
   "name": "python3",
   "language": "python",
   "display_name": "Python 3"
  },
  "pycharm": {
   "stem_cell": {
    "cell_type": "raw",
    "source": [],
    "metadata": {
     "collapsed": false
    }
   }
  }
 },
 "nbformat": 4,
 "nbformat_minor": 0
}